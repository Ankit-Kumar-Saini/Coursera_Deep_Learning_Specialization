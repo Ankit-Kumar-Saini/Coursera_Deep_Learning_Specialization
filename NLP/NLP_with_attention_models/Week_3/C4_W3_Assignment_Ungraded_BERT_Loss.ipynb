{
 "cells": [
  {
   "cell_type": "markdown",
   "metadata": {
    "colab_type": "text",
    "id": "7yuytuIllsv1"
   },
   "source": [
    "# Assignment 3 Ungraded Sections - Part 1: BERT Loss Model \n",
    "\n",
    "Welcome to the part 1 of testing the models for this week's assignment. We will perform decoding using the BERT Loss model. In this notebook we'll use an input, mask (hide) random word(s) in it and see how well we get the \"Target\" answer(s). \n",
    "\n",
    "## Colab\n",
    "\n",
    "Since this ungraded lab takes a lot of time to run on coursera, as an alternative we have a colab prepared for you.\n",
    "\n",
    "[BERT Loss Model Colab](https://drive.google.com/file/d/1EHAbMnW6u-GqYWh5r3Z8uLbz4KNpKOAv/view?usp=sharing)\n",
    "\n",
    "- If you run into a page that looks similar to the one below, with the option `Open with`, this would mean you need to download the `Colaboratory` app. You can do so by `Open with -> Connect more apps -> in the search bar write \"Colaboratory\" -> install`\n",
    "\n",
    "<img src = \"colab_help_1.png\"> \n",
    "\n",
    "- After installation it should look like this. Click on `Open with Google Colaboratory`\n",
    "\n",
    "<img src = \"colab_help_2.png\"> "
   ]
  },
  {
   "cell_type": "markdown",
   "metadata": {
    "colab_type": "text",
    "id": "Db6LQW5cMSgx"
   },
   "source": [
    "## Outline\n",
    "\n",
    "- [Overview](#0)\n",
    "- [Part 1: Getting ready](#1)\n",
    "- [Part 2: BERT Loss](#2)\n",
    "    - [2.1 Decoding](#2.1)"
   ]
  },
  {
   "cell_type": "markdown",
   "metadata": {
    "colab_type": "text",
    "id": "ysxogfC1M158"
   },
   "source": [
    "<a name='0'></a>\n",
    "### Overview\n",
    "\n",
    "In this notebook you will:\n",
    "* Implement the Bidirectional Encoder Representation from Transformer (BERT) loss. \n",
    "* Use a pretrained version of the model you created in the assignment for inference."
   ]
  },
  {
   "cell_type": "markdown",
   "metadata": {},
   "source": [
    "<a name='1'></a>\n",
    "# Part 1: Getting ready\n",
    "\n",
    "Run the code cells below to import the necessary libraries and to define some functions which will be useful for decoding. The code and the functions are the same as the ones you previsouly ran on the graded assignment."
   ]
  },
  {
   "cell_type": "code",
   "execution_count": 1,
   "metadata": {},
   "outputs": [
    {
     "name": "stdout",
     "output_type": "stream",
     "text": [
      "INFO:tensorflow:tokens_length=568 inputs_length=512 targets_length=114 noise_density=0.15 mean_noise_span_length=3.0 \n"
     ]
    }
   ],
   "source": [
    "import pickle\n",
    "import string\n",
    "import ast\n",
    "import numpy as np\n",
    "import trax \n",
    "from trax.supervised import decoding\n",
    "import textwrap \n",
    "\n",
    "wrapper = textwrap.TextWrapper(width=70)"
   ]
  },
  {
   "cell_type": "code",
   "execution_count": 2,
   "metadata": {},
   "outputs": [
    {
     "name": "stdout",
     "output_type": "stream",
     "text": [
      "[1]\n",
      "inputs:\n",
      "Beginners BBQ <Z> Taking <Y> in Missoula! <X> want to get better <W>\n",
      "making delicious <V>? You will have the opportunity, put this on <U>\n",
      "calendar now <T> Thursday, September 22nd<S> World Class BBQ Champion,\n",
      "Tony Balay from Lonestar Smoke Rangers. He<R> be <Q> a beginner<P>\n",
      "class for everyone <O> wants to<N> better <M> their <L> skills. He\n",
      "will teach you <K> you need to know <J> compete in  <I> KCBS BBQ\n",
      "competition, including techniques, recipes,<H>s, meat selection<G>\n",
      "trimming, plus smoker <F> information. The cost to be in the class is\n",
      "$35 per person<E> for spectator<D> is free. Included in the cost will\n",
      "be either a t-shirt or apron and you will<C> tasting samples of each\n",
      "meat that <B>.\n",
      "\n",
      "targets:\n",
      "<Z> Class <Y> Place <X> Do you <W> at <V> BBQ <U> your <T>.<S> join<R>\n",
      "will <Q> teaching<P> level <O> who<N> get <M> with <L> culinary <K>\n",
      "everything <J> to <I>a<H> timeline<G> and <F> and fire<E>, and<D>s\n",
      "it<C> be <B> is prepared\n",
      "\n",
      "\n",
      "\n",
      "\n",
      "[2]\n",
      "inputs:\n",
      "Discussion <Z> ' <Y> X Lion (10.7)' started by  <X>xboi87, Jan <W>\n",
      "2012. I've got a 500gb <V> drive and  <U> 240gb SSD <T> When trying to\n",
      "restore using disk utility i'm given the<S>Not enough space<R> disk\n",
      "___ <Q> to restore<P> But I shouldn't have to do that!!! <O> or<N>s\n",
      "before resorting to the <M>? Use <L> Copy <K>ner to copy one drive to\n",
      "the other. <J>'ve done this several times <I> larger<H>D<G> smaller\n",
      "SSD and I wound up with a bootable SSD drive. One step you have to\n",
      "remember not to skip is <F> use Disk Utility to partition the SSD as\n",
      "GUID partition scheme HFS+<E> doing the<D>ne<C> If it came Apple\n",
      "Partition Scheme, even if you let CCC do the  <B>e <A> the resulting\n",
      "<z> won' <y> be bootable<x> CCC<w> works in \"file mode\" and it can\n",
      "easily copy a larger drive (that's mostly empty) onto<v> drive.<u> you\n",
      "tell CCC to clone <t>a drive <s> did NOT boot from, it can work in<r>\n",
      "copy mode where the destination drive must be the same size or larger\n",
      "than<q> drive you are cloning from<p>if I recall). I've actually done\n",
      "<o> somehow <n> Disk Utility several times <m>booting from <l>a\n",
      "different drive (<k> even the dvd) so not running <j> utility from the\n",
      "drive your cloning) and had it<i> just fine from larger to smaller\n",
      "bootable clone. Definitely<h> drive <g>ning to first, as bootable\n",
      "Apple <f>.. Thanks for pointing this out<e> only experience using DU\n",
      "to go larger to smaller was when I was trying to make <d>a <c> install\n",
      "<b> I was unable to restore InstallESD.d <a>g Théâtre Keep 4 GB USB\n",
      "stick but of course the reason that wouldndürftigt fit isutti was\n",
      "slightly more than 4  Carolyn of data.\n",
      "\n",
      "targets:\n",
      "<Z> in <Y>Mac OS <X>a <W> 20, <V> internal <U>a <T>.<S> error \"<R> on\n",
      "<Q>_<P>\" <O> Any ideas<N> workaround <M> above <L> Carbon <K> Clo <J>\n",
      "I <I> going from<H> HD<G> to <F> to<E> before<D> clo<C>. <B>clon <A>,\n",
      "<z> drive <y>t<x>.<w> usually<v> a smaller<u> If <t>  <s> you<r>\n",
      "block<q> the<p> ( <o> this <n> on <m> ( <l> <k>or <j> disk<i> work<h>\n",
      "format the<g>clo <f> etc<e>. My <d>  <c> Lion <b> stick and <a>m\n",
      "Théâtre toKeepadürftig'utti there CarolynGB\n",
      "\n",
      "\n",
      "\n",
      "\n",
      "[3]\n",
      "inputs:\n",
      "Fo <Z> plaid ly <Y> and <X>dex shortall with metallic slinky insets.\n",
      "Attached metallic elastic <W> with O-ring. <V>band <U>. Great hip hop\n",
      "<T> dance costume. Made in the USA.\n",
      "\n",
      "targets:\n",
      "<Z>il <Y>cra <X> span <W> belt <V> Head <U> included <T> or jazz\n",
      "\n",
      "\n",
      "\n",
      "\n",
      "[4]\n",
      "inputs:\n",
      "How many back <Z>s per day for <Y> site? Discussion in 'Black Hat SEO\n",
      "<X> by Omoplat <W>, Dec 3, 2010. 1) <V> a newly created site, what's\n",
      "the max # back <U>s per day I should do to be <T>? 2) how long do I\n",
      "have to let my site age before I can start<S> blinks? I did about <R>\n",
      "profiles every 24 hours <Q> 10 days for one of<P> sites which had a\n",
      "brand new domain. There is three backlinks for <O> of these<N> profile\n",
      "so thats 18 000 backlinks <M> 24 hours and nothing happened in terms\n",
      "of being penalized or sandboxed. This is now <L> 3 <K> ago and the\n",
      "site is ranking on first page for a lot of my targeted keywords <J>\n",
      "build more you can in starting but <I> manual<H> and not spammy\n",
      "type<G> manual + relevant to the <F>.. then after 1 month you can make\n",
      "a big<E>.. Wow, dude, you built 18k backlinks a day on a brand new<D>?\n",
      "How quickly<C> rank up? What <B> of competition/searches did those\n",
      "keywords have?\n",
      "\n",
      "targets:\n",
      "<Z>link <Y> new <X>' started <W>a <V> for <U>link <T> safe<S> making\n",
      "more<R>6000 forum <Q> for<P> my <O> every<N> forum <M> every <L> maybe\n",
      "<K> months <J>. <I> do<H> submission<G> means <F> post<E> blast<D>\n",
      "site<C> did you <B> kind\n",
      "\n",
      "\n",
      "\n",
      "\n",
      "[5]\n",
      "inputs:\n",
      "The Denver Board of Education opened the 2017-18 school year with an\n",
      "update on projects that include new construction, upgrades, heat\n",
      "mitigation and quality <Z>. We are excited <Y> students will be the\n",
      "<X> of a four year, <W>72 million <V> Obligation Bond. Since the\n",
      "passage of <U> bond, <T> construction team has worked to<S> the\n",
      "projects over the four-year term of<R> bond. Denver <Q> on Tuesday\n",
      "approved<P> and mill funding measures for students in <O> Public\n",
      "Schools, agreeing to invest $5<N> million in bond funding to build and\n",
      "improve schools and $5 <M> million in <L> dollars to support proven\n",
      "initiatives, such as early literacy. Denver voters say yes to bond and\n",
      "mill levy funding support <K> DPS students and schools. Click to learn\n",
      "<J> about the details <I> voter-approved bond measure. Denver voters\n",
      "on Nov. 8 approved bond and mill funding measures for DPS students and\n",
      "schools. Learn<H> about what’s included<G> the mill levy measure.\n",
      "\n",
      "targets:\n",
      "<Z> learning environments <Y> that Denver <X> beneficiaries <W> $5 <V>\n",
      "General <U> the <T> our<S> schedule<R> the <Q> voters<P> bond <O>\n",
      "Denver<N>72 <M>6.6 <L> operating <K> for <J> more <I> of the<H>\n",
      "more<G> in\n",
      "\n",
      "\n",
      "\n",
      "\n"
     ]
    }
   ],
   "source": [
    "example_jsons = list(map(ast.literal_eval, open('data.txt')))\n",
    "\n",
    "natural_language_texts = [example_json['text'] for example_json in example_jsons]\n",
    "\n",
    "PAD, EOS, UNK = 0, 1, 2\n",
    "\n",
    "def detokenize(np_array):\n",
    "    return trax.data.detokenize(\n",
    "        np_array,\n",
    "        vocab_type='sentencepiece',\n",
    "        vocab_file='sentencepiece.model',\n",
    "        vocab_dir='.')\n",
    "\n",
    "\n",
    "def tokenize(s):\n",
    "    return next(trax.data.tokenize(\n",
    "        iter([s]),\n",
    "        vocab_type='sentencepiece',\n",
    "        vocab_file='sentencepiece.model',\n",
    "        vocab_dir='.'))\n",
    " \n",
    "    \n",
    "vocab_size = trax.data.vocab_size(\n",
    "    vocab_type='sentencepiece',\n",
    "    vocab_file='sentencepiece.model',\n",
    "    vocab_dir='.')\n",
    "\n",
    "\n",
    "def get_sentinels(vocab_size, display=False):\n",
    "    sentinels = {}\n",
    "    for i, char in enumerate(reversed(string.ascii_letters), 1):\n",
    "        decoded_text = detokenize([vocab_size - i]) \n",
    "        # Sentinels, ex: <Z> - <a>\n",
    "        sentinels[decoded_text] = f'<{char}>'    \n",
    "        if display:\n",
    "            print(f'The sentinel is <{char}> and the decoded token is:', decoded_text)\n",
    "    return sentinels\n",
    "\n",
    "\n",
    "sentinels = get_sentinels(vocab_size, display=False)    \n",
    "\n",
    "\n",
    "def pretty_decode(encoded_str_list, sentinels=sentinels):\n",
    "    # If already a string, just do the replacements.\n",
    "    if isinstance(encoded_str_list, (str, bytes)):\n",
    "        for token, char in sentinels.items():\n",
    "            encoded_str_list = encoded_str_list.replace(token, char)\n",
    "        return encoded_str_list\n",
    "  \n",
    "    # We need to decode and then prettyfy it.\n",
    "    return pretty_decode(detokenize(encoded_str_list))\n",
    "\n",
    "\n",
    "inputs_targets_pairs = []\n",
    "\n",
    "# here you are reading already computed input/target pairs from a file\n",
    "with open ('inputs_targets_pairs_file.txt', 'rb') as fp:\n",
    "    inputs_targets_pairs = pickle.load(fp)  \n",
    "\n",
    "\n",
    "def display_input_target_pairs(inputs_targets_pairs):\n",
    "    for i, inp_tgt_pair in enumerate(inputs_targets_pairs, 1):\n",
    "        inps, tgts = inp_tgt_pair\n",
    "        inps, tgts = pretty_decode(inps), pretty_decode(tgts)\n",
    "        print(f'[{i}]\\n'\n",
    "              f'inputs:\\n{wrapper.fill(text=inps)}\\n\\n'\n",
    "              f'targets:\\n{wrapper.fill(text=tgts)}\\n\\n\\n\\n')\n",
    "    \n",
    "display_input_target_pairs(inputs_targets_pairs)    "
   ]
  },
  {
   "cell_type": "markdown",
   "metadata": {},
   "source": [
    "<a name='2'></a>\n",
    "# Part 2: BERT Loss\n",
    "\n",
    "Now that you created the encoder, we will not make you train it. Training it could easily cost you a few days depending on which GPUs/TPUs you are using. Very few people train the full transformer from scratch. Instead, what the majority of people do, they load in a pretrained model, and they fine tune it on a specific task. That is exactly what you are about to do. Let's start by initializing and then loading in the model. \n",
    "\n",
    "Initialize the model from the saved checkpoint."
   ]
  },
  {
   "cell_type": "code",
   "execution_count": 3,
   "metadata": {},
   "outputs": [],
   "source": [
    "# Initializing the model\n",
    "model = trax.models.Transformer(\n",
    "    d_ff = 4096,\n",
    "    d_model = 1024,\n",
    "    max_len = 2048,\n",
    "    n_heads = 16,\n",
    "    dropout = 0.1,\n",
    "    input_vocab_size = 32000,\n",
    "    n_encoder_layers = 24,\n",
    "    n_decoder_layers = 24,\n",
    "    mode='predict')"
   ]
  },
  {
   "cell_type": "code",
   "execution_count": 4,
   "metadata": {},
   "outputs": [],
   "source": [
    "# Now load in the model\n",
    "# this takes about 1 minute\n",
    "shape11 = trax.shapes.ShapeDtype((1, 1), dtype=np.int32)  # Needed in predict mode.\n",
    "model.init_from_file('model.pkl.gz',\n",
    "                     weights_only=True, input_signature=(shape11, shape11))"
   ]
  },
  {
   "cell_type": "markdown",
   "metadata": {
    "colab_type": "text",
    "id": "HuTyft5EBQK6"
   },
   "source": [
    "<a name='2.1'></a>\n",
    "### 2.1 Decoding\n",
    "\n",
    "Now you will use one of the `inputs_targets_pairs` for input and as target. Next you will use the `pretty_decode` to output the input and target. The code to perform all of this has been provided below."
   ]
  },
  {
   "cell_type": "code",
   "execution_count": 5,
   "metadata": {
    "colab": {
     "base_uri": "https://localhost:8080/",
     "height": 139
    },
    "colab_type": "code",
    "id": "gPggKamNBZxJ",
    "outputId": "4514c865-7534-4ce8-a339-2a4030bc6fb5"
   },
   "outputs": [
    {
     "name": "stdout",
     "output_type": "stream",
     "text": [
      "pretty_decoded input: \n",
      "\n",
      " Fo <Z> plaid ly <Y> and <X>dex shortall with metallic slinky insets. Attached metallic elastic <W> with O-ring. <V>band <U>. Great hip hop <T> dance costume. Made in the USA.\n",
      "\n",
      "pretty_decoded target: \n",
      "\n",
      " <Z>il <Y>cra <X> span <W> belt <V> Head <U> included <T> or jazz\n",
      "\n",
      "c4_input:\n",
      "\n",
      " [4452, 31999, 30772, 3, 120, 31998, 11, 31997, 26, 994, 710, 1748, 28, 18813, 3, 7, 4907, 63, 16, 2244, 7, 5, 28416, 15, 26, 18813, 15855, 31996, 28, 411, 18, 1007, 5, 31995, 3348, 31994, 5, 1651, 5436, 13652, 31993, 2595, 11594, 5, 6465, 16, 8, 2312, 5]\n",
      "\n",
      "c4_target:\n",
      "\n",
      " [31999, 173, 31998, 2935, 31997, 8438, 31996, 6782, 31995, 3642, 31994, 1285, 31993, 42, 9948]\n",
      "15\n",
      "64\n"
     ]
    }
   ],
   "source": [
    "# using the 3rd example\n",
    "c4_input = inputs_targets_pairs[2][0]\n",
    "c4_target = inputs_targets_pairs[2][1]\n",
    "\n",
    "print('pretty_decoded input: \\n\\n', pretty_decode(c4_input))\n",
    "print('\\npretty_decoded target: \\n\\n', pretty_decode(c4_target))\n",
    "print('\\nc4_input:\\n\\n', c4_input)\n",
    "print('\\nc4_target:\\n\\n', c4_target)\n",
    "print(len(c4_target))\n",
    "print(len(pretty_decode(c4_target)))"
   ]
  },
  {
   "cell_type": "markdown",
   "metadata": {},
   "source": [
    "Run the cell below to decode.\n",
    "\n",
    "### Note: This will take some time to run"
   ]
  },
  {
   "cell_type": "code",
   "execution_count": 6,
   "metadata": {
    "colab": {
     "base_uri": "https://localhost:8080/",
     "height": 477
    },
    "colab_type": "code",
    "id": "-I12YqxMTwgo",
    "outputId": "4e2399fa-7cbd-4ae3-8cee-6c97cbd277af",
    "scrolled": true
   },
   "outputs": [
    {
     "name": "stdout",
     "output_type": "stream",
     "text": [
      "<Z>o <Y>cra <X>\n"
     ]
    }
   ],
   "source": [
    "# Temperature is a parameter for sampling.\n",
    "#   # * 0.0: same as argmax, always pick the most probable token\n",
    "#   # * 1.0: sampling from the distribution (can sometimes say random things)\n",
    "#   # * values inbetween can trade off diversity and quality, try it out!\n",
    "output = decoding.autoregressive_sample(model, inputs=np.array(c4_input)[None, :],\n",
    "                                        temperature=0.0, max_length=5) # originally max_length = 50\n",
    "print(wrapper.fill(pretty_decode(output[0])))"
   ]
  },
  {
   "cell_type": "markdown",
   "metadata": {
    "colab": {},
    "colab_type": "code",
    "id": "PJh_Qw9G5jND"
   },
   "source": [
    "At this point the RAM is almost full, this happens because the model and the decoding is memory heavy. You can run decoding just once. Running it the second time with another example might give you an answer that makes no sense, or repetitive words. If that happens restart the runtime (see how to at the start of the notebook) and run all the cells again.\n",
    "\n",
    "You should also be aware that the quality of the decoding is not very good because max_length was downsized from 50 to 5 so that this runs faster within this environment. The colab version uses the original max_length so check that one for the actual decoding."
   ]
  }
 ],
 "metadata": {
  "accelerator": "GPU",
  "colab": {
   "collapsed_sections": [],
   "name": "C4W3-solutions.ipynb",
   "provenance": [],
   "toc_visible": true
  },
  "kernelspec": {
   "display_name": "Python 3",
   "language": "python",
   "name": "python3"
  },
  "language_info": {
   "codemirror_mode": {
    "name": "ipython",
    "version": 3
   },
   "file_extension": ".py",
   "mimetype": "text/x-python",
   "name": "python",
   "nbconvert_exporter": "python",
   "pygments_lexer": "ipython3",
   "version": "3.7.6"
  }
 },
 "nbformat": 4,
 "nbformat_minor": 4
}
