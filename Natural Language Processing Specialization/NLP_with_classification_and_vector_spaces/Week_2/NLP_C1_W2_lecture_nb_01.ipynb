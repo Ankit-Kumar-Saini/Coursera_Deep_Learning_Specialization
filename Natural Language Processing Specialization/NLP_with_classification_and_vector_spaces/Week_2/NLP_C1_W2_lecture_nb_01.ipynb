{
 "cells": [
  {
   "cell_type": "markdown",
   "metadata": {},
   "source": [
    "# Visualizing Naive Bayes\n",
    "\n",
    "In this lab, we will cover an essential part of data analysis that has not been included in the lecture videos. As we stated in the previous module, data visualization gives insight into the expected performance of any model. \n",
    "\n",
    "In the following exercise, you are going to make a visual inspection of the tweets dataset using the Naïve Bayes features. We will see how we can understand the log-likelihood ratio explained in the videos as a pair of numerical features that can be fed in a machine learning algorithm. \n",
    "\n",
    "At the end of this lab, we will introduce the concept of __confidence ellipse__ as a tool for representing the Naïve Bayes model visually."
   ]
  },
  {
   "cell_type": "code",
   "execution_count": 1,
   "metadata": {},
   "outputs": [],
   "source": [
    "import numpy as np # Library for linear algebra and math utils\n",
    "import pandas as pd # Dataframe library\n",
    "\n",
    "import matplotlib.pyplot as plt # Library for plots\n",
    "from utils import confidence_ellipse # Function to add confidence ellipses to charts"
   ]
  },
  {
   "cell_type": "markdown",
   "metadata": {},
   "source": [
    " ## Calculate the likelihoods for each tweet\n",
    "\n",
    "For each tweet, we have calculated the likelihood of the tweet to be positive and the likelihood to be negative. We have calculated in different columns the numerator and denominator of the likelihood ratio introduced previously.  \n",
    "\n",
    "$$log \\frac{P(tweet|pos)}{P(tweet|neg)} = log(P(tweet|pos)) - log(P(tweet|neg)) $$\n",
    "$$positive = log(P(tweet|pos)) = \\sum_{i=0}^{n}{log P(W_i|pos)}$$\n",
    "$$negative = log(P(tweet|neg)) = \\sum_{i=0}^{n}{log P(W_i|neg)}$$\n",
    "\n",
    "We did not include the code because this is part of this week's assignment.  The __'bayes_features.csv'__ file contains the final result of this process. \n",
    "\n",
    "The cell below loads the table in a dataframe. Dataframes are data structures that simplify the manipulation of data, allowing filtering, slicing, joining, and summarization."
   ]
  },
  {
   "cell_type": "code",
   "execution_count": null,
   "metadata": {},
   "outputs": [],
   "source": [
    "data = pd.read_csv('bayes_features.csv'); # Load the data from the csv file\n",
    "\n",
    "data.head(5) # Print the first 5 tweets features. Each row represents a tweet"
   ]
  },
  {
   "cell_type": "code",
   "execution_count": null,
   "metadata": {},
   "outputs": [],
   "source": [
    "# Plot the samples using columns 1 and 2 of the matrix\n",
    "\n",
    "fig, ax = plt.subplots(figsize = (8, 8)) #Create a new figure with a custom size\n",
    "\n",
    "colors = ['red', 'green'] # Define a color palete\n",
    "\n",
    "# Color base on sentiment\n",
    "ax.scatter(data.positive, data.negative, \n",
    "    c=[colors[int(k)] for k in data.sentiment], s = 0.1, marker='*')  # Plot a dot for each tweet\n",
    "\n",
    "# Custom limits for this chart\n",
    "plt.xlim(-250,0)\n",
    "plt.ylim(-250,0)\n",
    "\n",
    "plt.xlabel(\"Positive\") # x-axis label\n",
    "plt.ylabel(\"Negative\") # y-axis label"
   ]
  },
  {
   "cell_type": "markdown",
   "metadata": {},
   "source": [
    "# Using Confidence Ellipses to interpret Naïve Bayes\n",
    "\n",
    "In this section, we will use the [confidence ellipse]( https://matplotlib.org/3.1.1/gallery/statistics/confidence_ellipse.html#sphx-glr-gallery-statistics-confidence-ellipse-py) to give us an idea of what the Naïve Bayes model see.\n",
    "\n",
    "A confidence ellipse is a way to visualize a 2D random variable. It is a better way than plotting the points over a cartesian plane because, with big datasets, the points can overlap badly and hide the real distribution of the data. Confidence ellipses summarize the information of the dataset with only four parameters: \n",
    "\n",
    "* Center: It is the numerical mean of the attributes\n",
    "* Height and width: Related with the variance of each attribute. The user must specify the desired amount of standard deviations used to plot the ellipse. \n",
    "* Angle: Related with the covariance among attributes.\n",
    "\n",
    "The parameter __n_std__ stands for the number of standard deviations bounded by the ellipse. Remember that for normal random distributions:\n",
    "\n",
    "* About 68% of the area under the curve falls within 1 standard deviation around the mean.\n",
    "* About 95% of the area under the curve falls within 2 standard deviations around the mean.\n",
    "* About 99.7% of the area under the curve falls within 3 standard deviations around the mean.\n",
    "\n",
    "<img src=std.jpg width=\"400\" >\n",
    "\n",
    "\n",
    "In the next chart, we will plot the data and its corresponding confidence ellipses using 2 std and 3 std. "
   ]
  },
  {
   "cell_type": "code",
   "execution_count": null,
   "metadata": {},
   "outputs": [],
   "source": [
    "# Plot the samples using columns 1 and 2 of the matrix\n",
    "fig, ax = plt.subplots(figsize = (8, 8))\n",
    "\n",
    "colors = ['red', 'green'] # Define a color palete\n",
    "\n",
    "# Color base on sentiment\n",
    "\n",
    "ax.scatter(data.positive, data.negative, c=[colors[int(k)] for k in data.sentiment], s = 0.1, marker='*')  # Plot a dot for tweet\n",
    "\n",
    "# Custom limits for this chart\n",
    "plt.xlim(-200,40)  \n",
    "plt.ylim(-200,40)\n",
    "\n",
    "plt.xlabel(\"Positive\") # x-axis label\n",
    "plt.ylabel(\"Negative\") # y-axis label\n",
    "\n",
    "data_pos = data[data.sentiment == 1] # Filter only the positive samples\n",
    "data_neg = data[data.sentiment == 0] # Filter only the negative samples\n",
    "\n",
    "# Print confidence ellipses of 2 std\n",
    "confidence_ellipse(data_pos.positive, data_pos.negative, ax, n_std=2, edgecolor='black', label=r'$2\\sigma$' )\n",
    "confidence_ellipse(data_neg.positive, data_neg.negative, ax, n_std=2, edgecolor='orange')\n",
    "\n",
    "# Print confidence ellipses of 3 std\n",
    "confidence_ellipse(data_pos.positive, data_pos.negative, ax, n_std=3, edgecolor='black', linestyle=':', label=r'$3\\sigma$')\n",
    "confidence_ellipse(data_neg.positive, data_neg.negative, ax, n_std=3, edgecolor='orange', linestyle=':')\n",
    "ax.legend()\n",
    "\n",
    "plt.show()"
   ]
  },
  {
   "cell_type": "markdown",
   "metadata": {},
   "source": [
    "In the next cell, we will modify the features of the samples with positive sentiment (1), in a way that the two distributions overlap. In this case, the Naïve Bayes method will produce a lower accuracy than with the original data."
   ]
  },
  {
   "cell_type": "code",
   "execution_count": null,
   "metadata": {},
   "outputs": [],
   "source": [
    "data2 = data.copy() # Copy the whole data frame\n",
    "\n",
    "# The following 2 lines only modify the entries in the data frame where sentiment == 1\n",
    "data2.negative[data.sentiment == 1] =  data2.negative * 1.5 + 50 # Modify the negative attribute\n",
    "data2.positive[data.sentiment == 1] =  data2.positive / 1.5 - 50 # Modify the positive attribute "
   ]
  },
  {
   "cell_type": "markdown",
   "metadata": {},
   "source": [
    "Now let us plot the two distributions and the confidence ellipses"
   ]
  },
  {
   "cell_type": "code",
   "execution_count": null,
   "metadata": {},
   "outputs": [],
   "source": [
    "# Plot the samples using columns 1 and 2 of the matrix\n",
    "fig, ax = plt.subplots(figsize = (8, 8))\n",
    "\n",
    "colors = ['red', 'green'] # Define a color palete\n",
    "\n",
    "# Color base on sentiment\n",
    "\n",
    "#data.negative[data.sentiment == 1] =  data.negative * 2\n",
    "\n",
    "ax.scatter(data2.positive, data2.negative, c=[colors[int(k)] for k in data2.sentiment], s = 0.1, marker='*')  # Plot a dot for tweet\n",
    "# Custom limits for this chart\n",
    "plt.xlim(-200,40)  \n",
    "plt.ylim(-200,40)\n",
    "\n",
    "plt.xlabel(\"Positive\") # x-axis label\n",
    "plt.ylabel(\"Negative\") # y-axis label\n",
    "\n",
    "data_pos = data2[data2.sentiment == 1] # Filter only the positive samples\n",
    "data_neg = data[data2.sentiment == 0] # Filter only the negative samples\n",
    "\n",
    "# Print confidence ellipses of 2 std\n",
    "confidence_ellipse(data_pos.positive, data_pos.negative, ax, n_std=2, edgecolor='black', label=r'$2\\sigma$' )\n",
    "confidence_ellipse(data_neg.positive, data_neg.negative, ax, n_std=2, edgecolor='orange')\n",
    "\n",
    "# Print confidence ellipses of 3 std\n",
    "confidence_ellipse(data_pos.positive, data_pos.negative, ax, n_std=3, edgecolor='black', linestyle=':', label=r'$3\\sigma$')\n",
    "confidence_ellipse(data_neg.positive, data_neg.negative, ax, n_std=3, edgecolor='orange', linestyle=':')\n",
    "ax.legend()\n",
    "\n",
    "plt.show()"
   ]
  },
  {
   "cell_type": "markdown",
   "metadata": {},
   "source": [
    "To give away: Understanding the data allows us to predict if the method will perform well or not. Alternatively, it will allow us to understand why it worked well or bad."
   ]
  }
 ],
 "metadata": {
  "kernelspec": {
   "display_name": "Python 3",
   "language": "python",
   "name": "python3"
  },
  "language_info": {
   "codemirror_mode": {
    "name": "ipython",
    "version": 3
   },
   "file_extension": ".py",
   "mimetype": "text/x-python",
   "name": "python",
   "nbconvert_exporter": "python",
   "pygments_lexer": "ipython3",
   "version": "3.7.1"
  }
 },
 "nbformat": 4,
 "nbformat_minor": 4
}
